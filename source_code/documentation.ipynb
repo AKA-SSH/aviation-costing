{
 "cells": [
  {
   "cell_type": "markdown",
   "id": "a8ea58c5-f097-4867-bc91-ffe1a422f6f1",
   "metadata": {},
   "source": [
    "# Aviation Costing"
   ]
  },
  {
   "cell_type": "markdown",
   "id": "343307f6-14e5-4741-a8a3-5808f579d10c",
   "metadata": {},
   "source": [
    "<center>\n",
    "    <img src ='https://i.imgur.com/J2L96N4.png' alt= 'Airlines Logos'>\n",
    "</center>\n",
    "\n",
    "*The aviation industry operates as a complex economic ecosystem, involving intricate cost structures that span aircraft manufacturing, operational expenses, infrastructure maintenance, and regulatory compliance. The industry's financial landscape is shaped by factors such as fuel prices, labor costs, technological investments, and the cyclical nature of demand. Balancing competitive pricing for air travel with the need for profitability presents an ongoing challenge, further compounded by the expenses associated with safety measures and environmental initiatives. Effective cost management is crucial for airlines, manufacturers, and service providers to ensure sustainable growth while adapting to evolving economic and market conditions.*"
   ]
  },
  {
   "cell_type": "markdown",
   "id": "a54a0dbc-d1a5-405a-9ab6-8418347083ce",
   "metadata": {},
   "source": [
    "## Challenge:"
   ]
  },
  {
   "cell_type": "markdown",
   "id": "2017a6c0-b148-4ec8-a93d-63d54503c197",
   "metadata": {},
   "source": [
    "\" *If the payload is discounted of the luggage weight, what will be the reduction in operating cost during the flight? Find the costing factor by which the fuel cost will drop.* \""
   ]
  },
  {
   "cell_type": "markdown",
   "id": "c07c6602-34ff-43de-80de-49a918ac67c7",
   "metadata": {},
   "source": [
    "## Solution:"
   ]
  },
  {
   "cell_type": "markdown",
   "id": "86939c73-7ccc-4ae0-bb83-e547a223ac53",
   "metadata": {},
   "source": [
    "<center>\n",
    "    <img src='https://i.imgur.com/M7vyVLm.png' alt= 'Website Calculator'>\n",
    "</center>\n",
    "\n",
    "This is a glimpse of the website which we will develop and deploy in this notebook for calculating costing factor and analyzing other key factors."
   ]
  },
  {
   "cell_type": "markdown",
   "id": "9c333cb1-3ce3-421f-8f78-a77dd18696e9",
   "metadata": {},
   "source": [
    "### Breguet's Range Equation"
   ]
  },
  {
   "cell_type": "markdown",
   "id": "fac180bd-8ad6-4c01-88bb-f295cf2b9b41",
   "metadata": {},
   "source": [
    "The Breguet Range Equation is a fundamental mathematical model used in aviation engineering to estimate the maximum range an aircraft can achieve based on its aerodynamic efficiency and fuel consumption characteristics.\n",
    "\n",
    "$$\\boxed{R = \\frac{V}{C} \\cdot \\frac{1}{L/D} \\cdot ln\\left(\\frac{W_{intital}}{W_{final}} \\right)}$$\n",
    "\n",
    "where:\n",
    "- $R$: range of the aircraft (in NM)\n",
    "- $V$: true air speed of the aircraft (in kts)\n",
    "- $C$: fuel consumption rate  (fuel flow rate) of the aircraft (generally in lb/hr, here in lb/NM)\n",
    "- $L/D$: lift-to-drag ratio of the aircraft\n",
    "- $W_{initial}$: initial weight of the aircraft, including fuel and payload.\n",
    "- $W_{final}$: final weight of the aircraft, which is the sum of the empty weight and payload weight after fuel consumption."
   ]
  },
  {
   "cell_type": "markdown",
   "id": "28ad7c34-e58c-490c-9163-1433f143566a",
   "metadata": {},
   "source": [
    "#### Helping formulae for derivation:"
   ]
  },
  {
   "cell_type": "markdown",
   "id": "8c435f62-9625-4423-a6ed-3f913ea781e1",
   "metadata": {},
   "source": [
    "- $fuel\\ consumption\\ rate= \\frac{fuel\\ flow}{time}$\n",
    "- $endurance=\\frac{fuel\\ capacity}{fuel\\ flow}$\n",
    "- $range= endurance \\cdot true\\ air\\ speed$\n",
    "- $fuel\\ consumed= fuel\\ flow \\cdot time$\n",
    "\n",
    "Using these formulae, we can derive that\n",
    "\n",
    "$$\\boxed{fuel\\ capacity = \\frac{fuel\\ consumed}{C} \\cdot ln\\left(\\frac{W_1}{W_2}\\right) \\cdot \\frac{1}{L/D}}$$"
   ]
  },
  {
   "cell_type": "markdown",
   "id": "ced39800-a0c2-4c22-815f-65cf8427e946",
   "metadata": {},
   "source": [
    "### Deriving the Costing Factor"
   ]
  },
  {
   "cell_type": "markdown",
   "id": "d312e149-2adf-407c-944c-605fdb1aa0ff",
   "metadata": {},
   "source": [
    "Here, let us consider two conditions:\n",
    "- maximum payload condition\n",
    "- test payload condition\n",
    "\n",
    "Here, we are assuming that the same aircraft is put under the above two conditions, therefore, the fuel capacity for the aircraft will be same.\n",
    "\n",
    "Let us represent the test payload condition variables by a naught ( $^o$ ).\n",
    "\n",
    "$\\frac{fuel\\ consumed}{C} \\cdot ln\\left(\\frac{W_1}{W_2}\\right) \\cdot \\frac{1}{L/D} = \\frac{fuel\\ consumed^o}{C^o} \\cdot ln\\left(\\frac{{W^o}_1}{{W^o}_2}\\right) \\cdot \\frac{1}{L^o/D^o}$\n",
    "\n",
    "on simplifying the above equation we will obtain,\n",
    "\n",
    "$$\\boxed{fuel\\ consumed^o = \\frac{C^o}{C}\\cdot \\frac{L^o/D^o}{L/D}\\cdot\\frac{{ln\\left(\\frac{W_1}{W_2}\\right)}}{{ln\\left(\\frac{{W_1}^o}\n",
    "{{W_2}^o}\\right)}} \\cdot fuel\\ consumed}$$ \n",
    "\n",
    "we can replace the factor by $\\gamma$, and we will get\n",
    "\n",
    "$$\\boxed{fuel\\ consumed^o = \\gamma \\cdot fuel\\ consumed} : 0<\\gamma<1$$\n",
    "\n",
    "From here, we can observe that we have derived a factor which is a function of:\n",
    "- fuel consumption rate\n",
    "- lift-to-drag ratio\n",
    "- initial weight\n",
    "- final weight"
   ]
  },
  {
   "cell_type": "markdown",
   "id": "bcce0e30-2c0d-47e4-8cbd-37e26269aa4e",
   "metadata": {},
   "source": [
    "#### Profit per NM:"
   ]
  },
  {
   "cell_type": "markdown",
   "id": "e64f4a5c-59d0-44f4-93b5-0cb2406bba70",
   "metadata": {},
   "source": [
    "Additionally, let us derive one more factor, which is the profit made by airlines per nautical mile.\n",
    "\n",
    "$total\\ cost = cost\\ per\\ pound \\cdot fuel\\ consumed$\n",
    "\n",
    "$cost\\ difference = cost\\ per\\ pound \\cdot(fuel\\ consumed - fuel\\ consumed^o)$\n",
    "\n",
    "$$\\boxed{profit\\ per\\ NM = \\frac{cost\\ difference}{distance\\ covered}}$$"
   ]
  },
  {
   "cell_type": "markdown",
   "id": "f0693a13-387f-4a91-b4b3-6db7533f6e7d",
   "metadata": {},
   "source": [
    "One more concept which will come in handy is that final weight can be calulated from the initial weight. But before finding that, we have to find a simplified formula for calculating the initial weight of the aircraft.\n",
    "\n",
    "$\\therefore$ **initial weight = basic empty weight + fuel weight + crew weight + total seats filled x avg passenger weight + luggage weight + other variable weight**\n",
    "\n",
    "and, **final weight = initial weight - fuel consumed x distance covered**\n",
    "\n",
    "Now that we have all the mathematical tools and equations that we needed to find the costing factor, let us transform the same in form of a python program and deploy it to streamlit web-server."
   ]
  },
  {
   "cell_type": "markdown",
   "id": "c945c2d0-7868-48d9-ab63-1965b3afe6fd",
   "metadata": {},
   "source": [
    "## Program"
   ]
  },
  {
   "cell_type": "markdown",
   "id": "4c751cac-ba2b-437b-894a-679577b45875",
   "metadata": {},
   "source": [
    "These are the only libraries that we need for this website."
   ]
  },
  {
   "cell_type": "code",
   "execution_count": null,
   "id": "b98c0f3a-4a61-4c21-9c47-f067ccaeb239",
   "metadata": {},
   "outputs": [],
   "source": [
    "import streamlit as st\n",
    "import math\n",
    "import matplotlib.pyplot as plt"
   ]
  },
  {
   "cell_type": "markdown",
   "id": "b257667d-fef7-4adc-9841-4a451d38996f",
   "metadata": {},
   "source": [
    "First, let us design the sidebar for the website."
   ]
  },
  {
   "cell_type": "code",
   "execution_count": null,
   "id": "809bc6d5-709a-459b-9897-7ba14067fbb4",
   "metadata": {
    "scrolled": true
   },
   "outputs": [],
   "source": [
    "# code for sidebar\n",
    "with st.sidebar:\n",
    "    # aircraft specifications \n",
    "    st.header('Aircraft Specifications')\n",
    "    basic_empty_weight       = st.number_input('Basic Empty Weight of Aircraft(in lbs)', value = 0)\n",
    "    number_of_seats          = st.number_input('Total Number of Passenger Seats in Aircraft', value = 0)\n",
    "    maximum_payload_capacity = st.number_input('Maximum Payload Capacity of Aircraft(in lbs)', value = 0)\n",
    "\n",
    "    # flight details\n",
    "    st.header('Flight Details')\n",
    "    fuel_weight             = st.number_input('Fuel Weight of Aircraft(in lbs)', value = 0)\n",
    "    crew_weight             = st.number_input('Total Crew Weight in Aircraft(in lbs)', value = 0)\n",
    "    other_variable_weight   = st.number_input('Other Variable Item Weight in Aircraft(in lbs)', value = 0)\n",
    "\n",
    "    # max payload condition\n",
    "    st.header('Max Payload Condition')\n",
    "    max_payload_total_fuel_consumed     = st.number_input('Fuel Consumed by Aircraft under Max. Payload(in lbs)', value = 0)\n",
    "    max_payload_fuel_consumption_rate   = st.number_input('Max. Payload Fuel Consumption of Aircraft(in lbs/NM)', value = 0.0)\n",
    "    max_payload_lift_drag_ratio         = st.number_input('Max. Payload Lift-Drag Ratio of Aircraft', value = 0.0)\n",
    "\n",
    "    # test payload condition\n",
    "    st.header('Test Payload Condition')\n",
    "    test_payload_fuel_consumption_rate  = st.number_input('Test Payload Fuel Consumption of Aircraft(in lbs/NM)', value = 0.0)\n",
    "    test_payload_lift_drag_ratio        = st.number_input('Test Payload Lift-Drag Ratio of Aircraft', value = 0.0)"
   ]
  },
  {
   "cell_type": "markdown",
   "id": "676c6927-7e00-40d7-a9ff-9e2398c06906",
   "metadata": {},
   "source": [
    "Now, let us design the main panel."
   ]
  },
  {
   "cell_type": "code",
   "execution_count": null,
   "id": "cdf76c89-8072-4022-9821-7bdd276442ba",
   "metadata": {},
   "outputs": [],
   "source": [
    "st.header('Aviation Costing')\n",
    "st.write('##### Test Case Inputs:')\n",
    "# code for main panel\n",
    "distance_col, avg_passenger_weight_cols, total_seats_filled_col, luggage_weight_col = st.columns(4)\n",
    "with distance_col:\n",
    "    distance             = st.number_input('Total Flight Distance(in NM)', value = 0)\n",
    "\n",
    "with avg_passenger_weight_cols:\n",
    "    avg_passenger_weight = st.number_input('Avg. Passenger Wt.(in lbs)', value = 180)\n",
    "\n",
    "with total_seats_filled_col:\n",
    "    total_seats_filled   = st.number_input('Total Number of Filled Seats', value = 0)\n",
    "    \n",
    "with luggage_weight_col:\n",
    "    luggage_weight       = st.number_input('Total Luggage Weight(in lbs)', value = 0)"
   ]
  },
  {
   "cell_type": "markdown",
   "id": "a8222c12-f267-493d-b116-c25ab80f5034",
   "metadata": {},
   "source": [
    "Now, let us use the initial and final weight equations for calculation. "
   ]
  },
  {
   "cell_type": "code",
   "execution_count": null,
   "id": "8f710252-8011-4dec-b7b7-a623f483edc5",
   "metadata": {},
   "outputs": [],
   "source": [
    "# calculating initial and final weight\n",
    "# maximum payload condition\n",
    "max_payload_initial_weight  = basic_empty_weight + fuel_weight + crew_weight + number_of_seats*avg_passenger_weight +  maximum_payload_capacity + other_variable_weight\n",
    "max_payload_final_weight    = max_payload_initial_weight - max_payload_fuel_consumption_rate*distance\n",
    "# test payload condition\n",
    "test_payload_initial_weight = basic_empty_weight + fuel_weight + crew_weight + total_seats_filled*avg_passenger_weight + luggage_weight + other_variable_weight\n",
    "test_payload_final_weight   = test_payload_initial_weight - test_payload_fuel_consumption_rate*distance"
   ]
  },
  {
   "cell_type": "markdown",
   "id": "0cc40668-503e-4518-9ae2-29e9d2201ec5",
   "metadata": {},
   "source": [
    "Displaying the calculated weights in 2x2 orientation."
   ]
  },
  {
   "cell_type": "code",
   "execution_count": null,
   "id": "7571b49e-460a-4d5c-9b33-e373d64e96c8",
   "metadata": {},
   "outputs": [],
   "source": [
    "# show initial and final weight\n",
    "row1_col1, row1_col2 = st.columns(2)\n",
    "row2_col1, row2_col2 = st.columns(2)\n",
    "\n",
    "# maximum payload condition\n",
    "with row1_col1:\n",
    "    st.write(f'Full Payload Initial Weight: {max_payload_initial_weight}')\n",
    "\n",
    "with row1_col2:\n",
    "    if max_payload_final_weight >= 0:\n",
    "        st.write(f'Full Payload Final Weight: {max_payload_final_weight}')\n",
    "    else:\n",
    "        st.write('Full Payload Final Weight: invalid inputs')\n",
    "\n",
    "# test payload condition\n",
    "with row2_col1:\n",
    "    st.write(f'Test Payload Initial Weight: {test_payload_initial_weight}')\n",
    "\n",
    "with row2_col2:\n",
    "    if test_payload_final_weight >= 0:\n",
    "        st.write(f'Test Payload Final Weight: {test_payload_final_weight}')\n",
    "    else:\n",
    "        st.write('Test Payload Final Weight: invalid inputs')\n",
    "\n",
    "st.markdown('----')"
   ]
  },
  {
   "cell_type": "markdown",
   "id": "d4abdd22-e2d9-4d30-a6d4-e511dd5895a0",
   "metadata": {},
   "source": [
    "Calculating fuel consumed under test payload condition."
   ]
  },
  {
   "cell_type": "code",
   "execution_count": null,
   "id": "7db4bd06-73a9-449c-b2c0-8c4928917b57",
   "metadata": {},
   "outputs": [],
   "source": [
    "# calculating fuel consumed under test payload condition\n",
    "test_payload_total_fuel_consumed = 0.0  # Default value\n",
    "\n",
    "if (max_payload_fuel_consumption_rate != 0 and max_payload_lift_drag_ratio != 0 and max_payload_final_weight != 0 and test_payload_initial_weight != 0 and test_payload_final_weight != 0 and max_payload_initial_weight != 0 and test_payload_initial_weight != test_payload_final_weight):  \n",
    "    # Avoid log(0)\n",
    "    test_payload_total_fuel_consumed = (test_payload_fuel_consumption_rate / max_payload_fuel_consumption_rate)*(test_payload_lift_drag_ratio / max_payload_lift_drag_ratio)*(math.log(max_payload_initial_weight / max_payload_final_weight) /math.log(test_payload_initial_weight / test_payload_final_weight))*max_payload_total_fuel_consumed\n",
    "\n",
    "# show test_payload_total_fuel_consumed\n",
    "st.write(f'###### Fuel Consumed Under Max Payload Condition : {max_payload_total_fuel_consumed:.3f}')\n",
    "st.write(f'###### Fuel Consumed Under Test Payload Condition : {test_payload_total_fuel_consumed:.3f}')\n",
    "\n",
    "if max_payload_total_fuel_consumed != 0:\n",
    "    fuel_costing_factor= test_payload_total_fuel_consumed/max_payload_total_fuel_consumed\n",
    "else:\n",
    "    fuel_costing_factor= 0.0"
   ]
  },
  {
   "cell_type": "markdown",
   "id": "2a844dba",
   "metadata": {},
   "source": [
    "Calculating fuel costing factor"
   ]
  },
  {
   "cell_type": "code",
   "execution_count": null,
   "id": "4bc110f6",
   "metadata": {},
   "outputs": [],
   "source": [
    "# show fuel costing factor    \n",
    "st.write(f'##### Fuel Costing Factor : {fuel_costing_factor:.3f}')\n",
    "\n",
    "st.markdown('-----')\n",
    "\n",
    "aircraft_turbine_fuel_cost = st.number_input('###### Cost of Aircraft Turbine Fuel (in $/lb)', value = 0.0)\n",
    "st.write(f'###### Flight Distance : {distance} NM')\n",
    "\n",
    "# calculating profit\n",
    "cost_difference = aircraft_turbine_fuel_cost*(max_payload_total_fuel_consumed-test_payload_total_fuel_consumed)\n",
    "if distance != 0:\n",
    "    profit_per_NM = cost_difference/distance\n",
    "else:\n",
    "    profit_per_NM = 0.0"
   ]
  },
  {
   "cell_type": "markdown",
   "id": "062bd893-bbbc-4307-b157-9e6daaa9e581",
   "metadata": {},
   "source": [
    "Displaying the calculated value of test payload total fuel consumed."
   ]
  },
  {
   "cell_type": "code",
   "execution_count": null,
   "id": "e6ddabba-04c4-40f7-aeab-c15a93eea1f5",
   "metadata": {},
   "outputs": [],
   "source": [
    "st.write(f'###### Profit per NM : ${profit_per_NM:.2f}')\n",
    "st.write(f'##### Total Profit : ${cost_difference:.2f}')\n",
    "st.markdown('----')"
   ]
  },
  {
   "cell_type": "markdown",
   "id": "9ffebedb-937e-4fed-b552-56bfda311965",
   "metadata": {},
   "source": [
    "Visualization of the test payload total fuel consumed and maximum payload fuel consumed plots."
   ]
  },
  {
   "cell_type": "code",
   "execution_count": null,
   "id": "50f41c6c-7e0d-4767-98d7-335a776db7ea",
   "metadata": {},
   "outputs": [],
   "source": [
    "# selecting datapoints for plotting\n",
    "range = [0, distance]\n",
    "max_payload_costing  = [0, aircraft_turbine_fuel_cost*max_payload_total_fuel_consumed]\n",
    "test_payload_costing = [0, aircraft_turbine_fuel_cost*test_payload_total_fuel_consumed]\n",
    "\n",
    "# plotting the data\n",
    "plt.figure(figsize=(10,6))\n",
    "plt.plot(range, max_payload_costing, label= 'Cost at Max. Payload Condition')\n",
    "plt.plot(range, test_payload_costing, label= 'Cost at Test Payload Condition')\n",
    "plt.fill_between(range, max_payload_costing, test_payload_costing, color= 'green', alpha= 0.3)\n",
    "plt.title('Cost Difference Between Maximum and Test Payload Condition')\n",
    "plt.xlabel('Distance')\n",
    "plt.ylabel('Cost')\n",
    "plt.legend()\n",
    "st.pyplot(plt)"
   ]
  },
  {
   "cell_type": "markdown",
   "id": "2f40fa09-901c-4ea4-a7f4-46305d8becdd",
   "metadata": {},
   "source": [
    "## Summary"
   ]
  },
  {
   "cell_type": "markdown",
   "id": "0dac3c03-6c88-4b13-b092-e46ca3e6df36",
   "metadata": {},
   "source": [
    "To summarize it all, we had to find a costing factor by which the operating cost will drop by changing the different variables during a flight. For this, we took the help of Breguet's Range Equation and derived a formula for the same. \n",
    "\n",
    "We assigned the factor to a variable $\\gamma$, which lies between the range 0 to 1.\n",
    "\n",
    "Upon finding it, we hardcoded the mathematical function and deployed it to a webserver using streamlit."
   ]
  }
 ],
 "metadata": {
  "kernelspec": {
   "display_name": "Python 3 (ipykernel)",
   "language": "python",
   "name": "python3"
  },
  "language_info": {
   "codemirror_mode": {
    "name": "ipython",
    "version": 3
   },
   "file_extension": ".py",
   "mimetype": "text/x-python",
   "name": "python",
   "nbconvert_exporter": "python",
   "pygments_lexer": "ipython3",
   "version": "3.10.11"
  }
 },
 "nbformat": 4,
 "nbformat_minor": 5
}
